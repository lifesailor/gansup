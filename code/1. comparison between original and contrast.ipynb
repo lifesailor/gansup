{
 "cells": [
  {
   "cell_type": "code",
   "execution_count": 2,
   "metadata": {},
   "outputs": [],
   "source": [
    "import os\n",
    "import numpy as np\n",
    "import pydicom\n",
    "import scipy.misc\n",
    "import scipy"
   ]
  },
  {
   "cell_type": "code",
   "execution_count": 79,
   "metadata": {},
   "outputs": [],
   "source": [
    "from matplotlib import pyplot as plt\n",
    "import matplotlib.image as mpimg"
   ]
  },
  {
   "cell_type": "code",
   "execution_count": 94,
   "metadata": {},
   "outputs": [],
   "source": [
    "contrast_path ='/Users/lifesailor/Desktop/project/medical-image-synthesis-gan/data/1-100/050/CT(CE)/2.PG+30'\n",
    "original_path = '/Users/lifesailor/Desktop/project/medical-image-synthesis-gan/data/1-100/050/CT/2.PG+30/'"
   ]
  },
  {
   "cell_type": "code",
   "execution_count": 95,
   "metadata": {},
   "outputs": [],
   "source": [
    "contrast_files = [file for file in os.listdir(contrast_path)]\n",
    "orignal_files = [file for file in os.listdir(original_path)]"
   ]
  },
  {
   "cell_type": "code",
   "execution_count": 96,
   "metadata": {},
   "outputs": [],
   "source": [
    "contrast_files.sort()\n",
    "orignal_files.sort()"
   ]
  },
  {
   "cell_type": "code",
   "execution_count": 97,
   "metadata": {},
   "outputs": [],
   "source": [
    "contrast_data = []\n",
    "\n",
    "for file in contrast_files:\n",
    "    data = pydicom.dcmread(os.path.join(contrast_path, file))\n",
    "    contrast_data.append(data)\n",
    "    \n",
    "original_data = []\n",
    "\n",
    "for file in orignal_files:\n",
    "    data = pydicom.dcmread(os.path.join(original_path, file))\n",
    "    original_data.append(data)"
   ]
  },
  {
   "cell_type": "code",
   "execution_count": 98,
   "metadata": {},
   "outputs": [
    {
     "name": "stdout",
     "output_type": "stream",
     "text": [
      "30 30\n"
     ]
    }
   ],
   "source": [
    "print(len(contrast_data), len(original_data))"
   ]
  },
  {
   "cell_type": "code",
   "execution_count": 99,
   "metadata": {},
   "outputs": [],
   "source": [
    "contrast_image = [data.pixel_array for data in contrast_data]\n",
    "original_image = [data.pixel_array for data in original_data]"
   ]
  },
  {
   "cell_type": "markdown",
   "metadata": {},
   "source": [
    "# 1. Comparison"
   ]
  },
  {
   "cell_type": "code",
   "execution_count": 100,
   "metadata": {},
   "outputs": [],
   "source": [
    "def subtraction(contrast, original):\n",
    "    mask = contrast < original\n",
    "    subtraction = contrast - original\n",
    "    subtraction[mask] = 0\n",
    "    return subtraction"
   ]
  },
  {
   "cell_type": "code",
   "execution_count": 101,
   "metadata": {},
   "outputs": [],
   "source": [
    "comparision_image = []\n",
    "\n",
    "for i in range(30):\n",
    "    contrast = contrast_data[i].pixel_array\n",
    "    original = original_data[i].pixel_array\n",
    "    comparision_image.append(subtraction(contrast, original))"
   ]
  },
  {
   "cell_type": "code",
   "execution_count": 102,
   "metadata": {},
   "outputs": [],
   "source": [
    "comparision_path ='/Users/lifesailor/Desktop/project/medical-image-synthesis-gan/data/1-100/050/comparison'"
   ]
  },
  {
   "cell_type": "markdown",
   "metadata": {},
   "source": [
    "# 2. save image"
   ]
  },
  {
   "cell_type": "code",
   "execution_count": 103,
   "metadata": {},
   "outputs": [],
   "source": [
    "if not os.path.exists(comparision_path):\n",
    "    os.mkdir(comparision_path)"
   ]
  },
  {
   "cell_type": "code",
   "execution_count": 104,
   "metadata": {
    "scrolled": true
   },
   "outputs": [
    {
     "name": "stderr",
     "output_type": "stream",
     "text": [
      "/anaconda3/envs/medical/lib/python3.6/site-packages/ipykernel_launcher.py:2: DeprecationWarning: `imsave` is deprecated!\n",
      "`imsave` is deprecated in SciPy 1.0.0, and will be removed in 1.2.0.\n",
      "Use ``imageio.imwrite`` instead.\n",
      "  \n",
      "/anaconda3/envs/medical/lib/python3.6/site-packages/ipykernel_launcher.py:3: DeprecationWarning: `imsave` is deprecated!\n",
      "`imsave` is deprecated in SciPy 1.0.0, and will be removed in 1.2.0.\n",
      "Use ``imageio.imwrite`` instead.\n",
      "  This is separate from the ipykernel package so we can avoid doing imports until\n",
      "/anaconda3/envs/medical/lib/python3.6/site-packages/ipykernel_launcher.py:4: DeprecationWarning: `imsave` is deprecated!\n",
      "`imsave` is deprecated in SciPy 1.0.0, and will be removed in 1.2.0.\n",
      "Use ``imageio.imwrite`` instead.\n",
      "  after removing the cwd from sys.path.\n"
     ]
    }
   ],
   "source": [
    "for i in range(30):\n",
    "    scipy.misc.imsave(os.path.join(comparision_path, str(i) + \"_\" + \"comparison\" + '.png'), comparision_image[i])\n",
    "    scipy.misc.imsave(os.path.join(comparision_path, str(i) + \"_\" + \"original\" + str(i) + '.png'), original_image[i])\n",
    "    scipy.misc.imsave(os.path.join(comparision_path, str(i) + \"_\" + \"contrast\" + str(i) + '.png'), contrast_image[i])"
   ]
  },
  {
   "cell_type": "markdown",
   "metadata": {},
   "source": [
    "# 3. imshow"
   ]
  },
  {
   "cell_type": "code",
   "execution_count": 105,
   "metadata": {},
   "outputs": [],
   "source": [
    "from ipywidgets import interact, interactive, fixed, interact_manual\n",
    "import ipywidgets as widgets"
   ]
  },
  {
   "cell_type": "code",
   "execution_count": 106,
   "metadata": {},
   "outputs": [],
   "source": [
    "def f(sequence):\n",
    "    fig = plt.figure(figsize=(15, 5))\n",
    "\n",
    "    fig.add_subplot(1, 3, 1)\n",
    "    plt.imshow(original_image[sequence], cmap='gray')\n",
    "\n",
    "    fig.add_subplot(1, 3, 2)\n",
    "    plt.imshow(contrast_image[sequence], cmap='gray')\n",
    "\n",
    "    fig.add_subplot(1, 3, 3)\n",
    "    plt.imshow(comparision_image[sequence], cmap='gray')"
   ]
  },
  {
   "cell_type": "code",
   "execution_count": 107,
   "metadata": {},
   "outputs": [
    {
     "data": {
      "application/vnd.jupyter.widget-view+json": {
       "model_id": "40f0c96dbb6c4841a5a96fecd24b1962",
       "version_major": 2,
       "version_minor": 0
      },
      "text/plain": [
       "interactive(children=(Dropdown(description='sequence', options=(0, 1, 2, 3, 4, 5, 6, 7, 8, 9, 10, 11, 12, 13, …"
      ]
     },
     "metadata": {},
     "output_type": "display_data"
    }
   ],
   "source": [
    "interactive_plot = interactive(f, sequence=range(30))\n",
    "interactive_plot"
   ]
  },
  {
   "cell_type": "markdown",
   "metadata": {},
   "source": [
    "# 4. crop middle"
   ]
  },
  {
   "cell_type": "code",
   "execution_count": 108,
   "metadata": {},
   "outputs": [],
   "source": [
    "def crop_middle(image):\n",
    "    return image[156:356, 156:356]"
   ]
  },
  {
   "cell_type": "code",
   "execution_count": 109,
   "metadata": {},
   "outputs": [],
   "source": [
    "original_crop = []\n",
    "for image in original_image:\n",
    "    original_crop.append(crop_middle(image))\n",
    "    \n",
    "contrast_crop = []\n",
    "for image in contrast_image:\n",
    "    contrast_crop.append(crop_middle(image))\n",
    "    \n",
    "comparison_crop = []\n",
    "for image in comparision_image:\n",
    "    comparison_crop.append(crop_middle(image))"
   ]
  },
  {
   "cell_type": "code",
   "execution_count": 110,
   "metadata": {},
   "outputs": [],
   "source": [
    "def f2(sequence):\n",
    "    fig = plt.figure(figsize=(15, 5))\n",
    "\n",
    "    fig.add_subplot(1, 3, 1)\n",
    "    plt.imshow(original_crop[sequence], cmap='gray')\n",
    "\n",
    "    fig.add_subplot(1, 3, 2)\n",
    "    plt.imshow(contrast_crop[sequence], cmap='gray')\n",
    "\n",
    "    fig.add_subplot(1, 3, 3)\n",
    "    plt.imshow(comparison_crop[sequence], cmap='gray')"
   ]
  },
  {
   "cell_type": "code",
   "execution_count": 111,
   "metadata": {},
   "outputs": [
    {
     "data": {
      "application/vnd.jupyter.widget-view+json": {
       "model_id": "ec79664341154bbb9d9086507b783883",
       "version_major": 2,
       "version_minor": 0
      },
      "text/plain": [
       "interactive(children=(Dropdown(description='sequence', options=(0, 1, 2, 3, 4, 5, 6, 7, 8, 9, 10, 11, 12, 13, …"
      ]
     },
     "metadata": {},
     "output_type": "display_data"
    }
   ],
   "source": [
    "interactive_plot = interactive(f2, sequence=range(30))\n",
    "interactive_plot"
   ]
  },
  {
   "cell_type": "markdown",
   "metadata": {},
   "source": [
    "## 5. Original Preprocessing"
   ]
  },
  {
   "cell_type": "markdown",
   "metadata": {},
   "source": [
    "### 1. Clahe"
   ]
  },
  {
   "cell_type": "code",
   "execution_count": 112,
   "metadata": {},
   "outputs": [],
   "source": [
    "import cv2"
   ]
  },
  {
   "cell_type": "code",
   "execution_count": 135,
   "metadata": {},
   "outputs": [],
   "source": [
    "clahed_original_crop = []\n",
    "\n",
    "for image in original_crop:\n",
    "    clahe = cv2.createCLAHE(clipLimit=2.0, tileGridSize=(5,5))\n",
    "    clahed_image = clahe.apply(image)\n",
    "    clahed_image = cv2.resize(clahed_image, (200, 200))\n",
    "    clahed_original_crop.append(clahed_image)"
   ]
  },
  {
   "cell_type": "code",
   "execution_count": 136,
   "metadata": {},
   "outputs": [],
   "source": [
    "def f3(sequence):\n",
    "    fig = plt.figure(figsize=(15, 5))\n",
    "\n",
    "    fig.add_subplot(1, 3, 1)\n",
    "    plt.imshow(original_crop[sequence], cmap='gray')\n",
    "    \n",
    "    fig.add_subplot(1, 3, 2)\n",
    "    plt.imshow(contrast_crop[sequence], cmap='gray')\n",
    "    \n",
    "    fig.add_subplot(1, 3, 3)\n",
    "    plt.imshow(clahed_original_crop[sequence], cmap='gray')"
   ]
  },
  {
   "cell_type": "code",
   "execution_count": 137,
   "metadata": {},
   "outputs": [
    {
     "data": {
      "application/vnd.jupyter.widget-view+json": {
       "model_id": "4b583d27706b44738a06620093f50155",
       "version_major": 2,
       "version_minor": 0
      },
      "text/plain": [
       "interactive(children=(Dropdown(description='sequence', options=(0, 1, 2, 3, 4, 5, 6, 7, 8, 9, 10, 11, 12, 13, …"
      ]
     },
     "metadata": {},
     "output_type": "display_data"
    }
   ],
   "source": [
    "interactive_plot = interactive(f3, sequence=range(30))\n",
    "interactive_plot"
   ]
  },
  {
   "cell_type": "markdown",
   "metadata": {},
   "source": [
    "### 2. Sharpening"
   ]
  },
  {
   "cell_type": "code",
   "execution_count": 116,
   "metadata": {},
   "outputs": [],
   "source": [
    "kernel_sharpening = np.array([[-1,-1,-1], \n",
    "                              [-1, 9,-1],\n",
    "                              [-1,-1,-1]])\n",
    "sharpened_original_crop = []\n",
    "for image in original_crop:\n",
    "    sharpened = cv2.filter2D(image, -1, kernel_sharpening)\n",
    "    sharpened_original_crop.append(sharpened)"
   ]
  },
  {
   "cell_type": "code",
   "execution_count": 117,
   "metadata": {},
   "outputs": [],
   "source": [
    "def f3(sequence):\n",
    "    fig = plt.figure(figsize=(15, 5))\n",
    "\n",
    "    fig.add_subplot(1, 3, 1)\n",
    "    plt.imshow(original_crop[sequence], cmap='gray')\n",
    "    \n",
    "    fig.add_subplot(1, 3, 2)\n",
    "    plt.imshow(contrast_crop[sequence], cmap='gray')\n",
    "    \n",
    "    fig.add_subplot(1, 3, 3)\n",
    "    plt.imshow(sharpened_original_crop[sequence], cmap='gray')"
   ]
  },
  {
   "cell_type": "code",
   "execution_count": 118,
   "metadata": {},
   "outputs": [
    {
     "data": {
      "application/vnd.jupyter.widget-view+json": {
       "model_id": "c95e55501f1b4db2b3814f20eb5ecb6b",
       "version_major": 2,
       "version_minor": 0
      },
      "text/plain": [
       "interactive(children=(Dropdown(description='sequence', options=(0, 1, 2, 3, 4, 5, 6, 7, 8, 9, 10, 11, 12, 13, …"
      ]
     },
     "metadata": {},
     "output_type": "display_data"
    }
   ],
   "source": [
    "interactive_plot = interactive(f3, sequence=range(30))\n",
    "interactive_plot"
   ]
  },
  {
   "cell_type": "markdown",
   "metadata": {},
   "source": [
    "## 6. Emphasize"
   ]
  },
  {
   "cell_type": "markdown",
   "metadata": {},
   "source": [
    "### 1. Brightness"
   ]
  },
  {
   "cell_type": "code",
   "execution_count": 119,
   "metadata": {},
   "outputs": [
    {
     "data": {
      "application/vnd.jupyter.widget-view+json": {
       "model_id": "a4885120e8bc49059299ec7ab32b872b",
       "version_major": 2,
       "version_minor": 0
      },
      "text/plain": [
       "interactive(children=(Dropdown(description='sequence', options=(0, 1, 2, 3, 4, 5, 6, 7, 8, 9, 10, 11, 12, 13, …"
      ]
     },
     "metadata": {},
     "output_type": "display_data"
    }
   ],
   "source": [
    "interactive_plot = interactive(f2, sequence=range(30))\n",
    "interactive_plot"
   ]
  },
  {
   "cell_type": "code",
   "execution_count": 123,
   "metadata": {},
   "outputs": [],
   "source": [
    "emphasize_original_crop = []\n",
    "\n",
    "for image in original_crop:\n",
    "    percentile_95 = np.percentile(image, 95)\n",
    "    emphasize = np.where(image > percentile_95, image, 0)\n",
    "    new_image = image + emphasize * 0.2\n",
    "    emphasize_original_crop.append(new_image)"
   ]
  },
  {
   "cell_type": "code",
   "execution_count": 124,
   "metadata": {},
   "outputs": [],
   "source": [
    "def f4(sequence):\n",
    "    fig = plt.figure(figsize=(15, 5))\n",
    "\n",
    "    fig.add_subplot(1, 3, 1)\n",
    "    plt.imshow(original_crop[sequence], cmap='gray')\n",
    "\n",
    "    fig.add_subplot(1, 3, 2)\n",
    "    plt.imshow(contrast_crop[sequence], cmap='gray')\n",
    "\n",
    "    fig.add_subplot(1, 3, 3)\n",
    "    plt.imshow(emphasize_original_crop[sequence], cmap='gray')"
   ]
  },
  {
   "cell_type": "code",
   "execution_count": 125,
   "metadata": {},
   "outputs": [
    {
     "data": {
      "application/vnd.jupyter.widget-view+json": {
       "model_id": "2ae52891eb044ec2b48334bf883b0a34",
       "version_major": 2,
       "version_minor": 0
      },
      "text/plain": [
       "interactive(children=(Dropdown(description='sequence', options=(0, 1, 2, 3, 4, 5, 6, 7, 8, 9, 10, 11, 12, 13, …"
      ]
     },
     "metadata": {},
     "output_type": "display_data"
    }
   ],
   "source": [
    "interactive_plot = interactive(f4, sequence=range(30))\n",
    "interactive_plot"
   ]
  },
  {
   "cell_type": "markdown",
   "metadata": {},
   "source": [
    "- 우리의 목적은 혈관을 찾는 것이다.\n",
    "    - 조영제를 넣었을 때 밝아지는 부분을 찾아야 하는 것은 아니다."
   ]
  },
  {
   "cell_type": "markdown",
   "metadata": {},
   "source": [
    "### 2. Darkness"
   ]
  },
  {
   "cell_type": "code",
   "execution_count": 126,
   "metadata": {},
   "outputs": [],
   "source": [
    "darken_original_crop = []\n",
    "\n",
    "for image in original_crop:\n",
    "    percentile_05 = np.percentile(image, 8)\n",
    "    emphasize = np.where(image < percentile_05, image, 0)\n",
    "    new_image = image - emphasize * 0.5\n",
    "    darken_original_crop.append(new_image)"
   ]
  },
  {
   "cell_type": "code",
   "execution_count": 127,
   "metadata": {},
   "outputs": [],
   "source": [
    "def f5(sequence):\n",
    "    fig = plt.figure(figsize=(15, 5))\n",
    "\n",
    "    fig.add_subplot(1, 3, 1)\n",
    "    plt.imshow(original_crop[sequence], cmap='gray')\n",
    "\n",
    "    fig.add_subplot(1, 3, 2)\n",
    "    plt.imshow(contrast_crop[sequence], cmap='gray')\n",
    "\n",
    "    fig.add_subplot(1, 3, 3)\n",
    "    plt.imshow(darken_original_crop[sequence], cmap='gray')"
   ]
  },
  {
   "cell_type": "code",
   "execution_count": 128,
   "metadata": {},
   "outputs": [
    {
     "data": {
      "application/vnd.jupyter.widget-view+json": {
       "model_id": "c3cbf32efeee4411aa83013f91ebec7c",
       "version_major": 2,
       "version_minor": 0
      },
      "text/plain": [
       "interactive(children=(Dropdown(description='sequence', options=(0, 1, 2, 3, 4, 5, 6, 7, 8, 9, 10, 11, 12, 13, …"
      ]
     },
     "metadata": {},
     "output_type": "display_data"
    }
   ],
   "source": [
    "interactive_plot = interactive(f5, sequence=range(30))\n",
    "interactive_plot"
   ]
  },
  {
   "cell_type": "markdown",
   "metadata": {},
   "source": [
    "### 발견\n",
    "\n",
    "1. 조영제를 넣었을 때 밝아지는 부분이 원본 이미지에서 조금이라도 밝은 것은 아니다.\n",
    "2. 원본 이미지에 어두운 부분이 있는데, 어두운 부분이 의미하는 것이 무엇인지 알고 싶다.\n",
    "    - 꼭 조영제랑 연관이 없다.\n",
    "3. 3에서 11까지가 가장 중요하다.\n",
    "    - 각 순서별로 할 필요가 없다."
   ]
  }
 ],
 "metadata": {
  "kernelspec": {
   "display_name": "Python 3",
   "language": "python",
   "name": "python3"
  },
  "language_info": {
   "codemirror_mode": {
    "name": "ipython",
    "version": 3
   },
   "file_extension": ".py",
   "mimetype": "text/x-python",
   "name": "python",
   "nbconvert_exporter": "python",
   "pygments_lexer": "ipython3",
   "version": "3.6.7"
  }
 },
 "nbformat": 4,
 "nbformat_minor": 2
}
